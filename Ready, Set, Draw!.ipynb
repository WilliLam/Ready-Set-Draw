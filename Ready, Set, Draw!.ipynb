{
 "cells": [
  {
   "cell_type": "code",
   "execution_count": 1,
   "metadata": {},
   "outputs": [
    {
     "name": "stderr",
     "output_type": "stream",
     "text": [
      "Using TensorFlow backend.\n"
     ]
    }
   ],
   "source": [
    "import numpy as np\n",
    "import cv2\n",
    "import os\n",
    "from keras.layers import Input, Dense, BatchNormalization, Dropout, Activation\n",
    "from keras.optimizers import Adam\n",
    "from keras import Model\n",
    "import time as t"
   ]
  },
  {
   "cell_type": "code",
   "execution_count": 2,
   "metadata": {},
   "outputs": [],
   "source": [
    "labelsToIndex = {'bird':0, 'cannon':1, 'chandelier':2, 'horse':3, \n",
    "        'hot_dog':4, 'panda':5, 'windmill':6}"
   ]
  },
  {
   "cell_type": "code",
   "execution_count": 3,
   "metadata": {},
   "outputs": [],
   "source": [
    "def onehot(array, max_categories):\n",
    "    output = []\n",
    "    for value in array:\n",
    "        temp = np.zeros(shape=(max_categories,))\n",
    "        temp[int(value)]=1\n",
    "        output.append(temp)\n",
    "    output = np.array(output)\n",
    "    return output"
   ]
  },
  {
   "cell_type": "code",
   "execution_count": 4,
   "metadata": {},
   "outputs": [
    {
     "name": "stdout",
     "output_type": "stream",
     "text": [
      "[[0. 1. 0. 0.]\n",
      " [1. 0. 0. 0.]\n",
      " [0. 0. 1. 0.]\n",
      " [0. 0. 0. 1.]\n",
      " [0. 0. 1. 0.]]\n"
     ]
    }
   ],
   "source": [
    "a = [1, 0, 2 , 3, 2]\n",
    "a = onehot(a, 4)\n",
    "print(a)"
   ]
  },
  {
   "cell_type": "code",
   "execution_count": null,
   "metadata": {},
   "outputs": [],
   "source": [
    "full_array = []\n",
    "for file in os.listdir('./data/'):\n",
    "    current_array = np.load('./data/'+ file)\n",
    "    file_name = file[:-4]\n",
    "    file_index = labelsToIndex[file_name]\n",
    "    index_array = np.zeros(shape=(current_array.shape[0],1)) + file_index\n",
    "    current_array = np.concatenate((current_array, index_array), axis=1)\n",
    "    print(current_array.shape)\n",
    "    for i in range(current_array.shape[0]):\n",
    "        full_array.append(current_array[i])\n",
    "full_array = np.array(full_array)"
   ]
  },
  {
   "cell_type": "code",
   "execution_count": 5,
   "metadata": {},
   "outputs": [],
   "source": [
    "full_array = np.load('./data/shuffled_full_array.npy')"
   ]
  },
  {
   "cell_type": "code",
   "execution_count": 6,
   "metadata": {},
   "outputs": [
    {
     "name": "stdout",
     "output_type": "stream",
     "text": [
      "[  0.   0.   0.   0.   0.   0.   0.   0.   0.   0.   0.   0.   0.   0.\n",
      "   0.   0.   0.   0.   0.   0.   0.   0.   0.   0.   0.   0.   0.   0.\n",
      "   0.   0.   0.   0.   0.   0.   0.   0.   0.   0.   0.   0.   0.   0.\n",
      "   0.   0.   0.   0.   0.  81. 100.  53.   0.   0.   0.   0.   0.   0.\n",
      "   0.   0.   0.   0.   0.   0.  32.  20.   0.   0.   0.   0.   0.   0.\n",
      "   0.   0.   0.   0.  57. 253. 255. 255. 209. 106.  14.   0.   0.   0.\n",
      "   0.   0.   0.   0.   0.   9. 230. 220.  26.   0.   0.   0.   0.   0.\n",
      "   0.   0.   0.   4. 208. 221.  31.  93. 197. 255. 242.  60.   0.   0.\n",
      "   0.   0.   0.   0.   0. 112. 255. 241. 213.  21.   0.   0.   0.   0.\n",
      "   0.   0.   0. 113. 255.  73.   0.   0.   0. 115. 255. 107.   0.   0.\n",
      "   0.   0.   0.   0.   8. 229. 180.  55. 242. 208.  18.   0.   0.   0.\n",
      "   0.   0.  28. 242. 172.   0.   0.   4. 119. 249. 200.  14.   0.   0.\n",
      "   0.   0.   0.   0. 112. 255.  54.   0.  64. 246. 197.   9.   0.   0.\n",
      "   0.   0. 172. 242.  28.   0.  42. 201. 255. 161.  12.   0.   0.   0.\n",
      "   0.   0.   0.   1. 224. 182.   0.   0.   0.  74. 252. 155.   0.   0.\n",
      "   0.  74. 255. 113.   0.  66. 244. 229.  76.   0.   0.   0.   0.   0.\n",
      "   0.   0.   0.  52. 255. 138.  27.   0.   0.   0. 123. 255.  94.   0.\n",
      "   9. 221. 208.   4.  66. 245. 204.  18.   0.   0.   0.   0.   0.   0.\n",
      "   0.   0.   0.  70. 251. 255. 255. 237. 189. 122.  52. 183. 244.  43.\n",
      " 110. 254.  57.  97. 245. 204.  17.   0.   0.   0.   0.   0.   0.   0.\n",
      "   0.   0.   0.   0.  11.  54. 100. 145. 196. 251. 255. 245. 255. 231.\n",
      " 237. 231. 166. 255. 181.  17.   0.   0.   0.   0.   0.   0.   0.   0.\n",
      "   0.   0.   0.   0.   0.   0.   0.   0.   0.  16.  84. 156. 242. 255.\n",
      " 253. 255. 254. 166.  10.   0.   0.   0.   0.   0.   0.   0.   0.   0.\n",
      "   0.   0.   0.   0.   0.   0.   0.   0.   0.   0.   7. 158. 255. 255.\n",
      " 241. 252. 252. 255. 237. 138.  33.   0.   0.   0.   0.   0.   0.   0.\n",
      "   0.   0.   0.   0.   0.   0.   0.   0.   0.  26. 199. 253. 192. 255.\n",
      " 253. 253. 158.  55. 163. 248. 253. 177.  69.   0.   0.   0.   0.   0.\n",
      "   0.   0.   0.   0.   0.   0.   0.   0.  50. 225. 242.  89. 218. 216.\n",
      "  43. 217. 244.  67.   0.  23. 124. 228. 255.  92.   0.   0.   0.   0.\n",
      "   0.   0.   0.   0.   0.   0.   0.  97. 248. 215.  39. 154. 252.  57.\n",
      "   0.  19. 203. 243.  54.   0.   0.  81. 255.  72.   0.   0.   0.   0.\n",
      "   0.   0.   0.   0.   0.   4. 146. 255. 179.  15. 102. 255. 124.   0.\n",
      "   0.   0.  20. 214. 236.  41.   0. 188. 220.   2.   0.   0.   0.   0.\n",
      "   0.   0.   0.   0.  19. 188. 254. 136.   2. 151. 249. 176.   1.   0.\n",
      "   0.   0.   0.  28. 224. 228.  69. 254. 113.   0.   0.   0.   0.   0.\n",
      "   0.   0.   0.  46. 222. 244.  84.   0.  43. 255. 232.  15.   0.   0.\n",
      "   0.   0.   0.   0.  41. 236. 252. 245.  17.   0.   0.   0.   0.   0.\n",
      "   0.   0.  62. 244. 255. 149.   6.   6. 214. 255.  82.   0.   0.   0.\n",
      "   0.   0.   0.   0.   0.  55. 242. 153.   0.   0.   0.   0.   0.   0.\n",
      "   0.   0.  67. 201. 216. 255. 221. 179. 254. 248.   4.   0.   0.   0.\n",
      "   0.   0.   0.   0.   0.   0.  27.   8.   0.   0.   0.   0.   0.   0.\n",
      "   0.   0.   0.   0.   0.  62. 198. 255. 224. 192.   0.   0.   0.   0.\n",
      "   0.   0.   0.   0.   0.   0.   0.   0.   0.   0.   0.   0.   0.   0.\n",
      "   0.   0.   0.   0.   0.   0.   0.  47. 245. 134.   0.   0.   0.   0.\n",
      "   0.   0.   0.   0.   0.   0.   0.   0.   0.   0.   0.   0.   0.   0.\n",
      "   0.   0.   0.   0.   0.   0.   0.  36. 255.  89.   0.   0.   0.   0.\n",
      "   0.   0.   0.   0.   0.   0.   0.   0.   0.   0.   0.   0.   0.   0.\n",
      "   0.   0.   0.   0.   0.   0.   0.  22. 255. 110.  17.  17.  17.  17.\n",
      "  11.   0.   0.   0.   0.   0.   0.   0.   0.   0.   0.   0.   0.   0.\n",
      "   0.   0.   0.   0.   0.   0.   0.   3. 250. 255. 255. 255. 255. 255.\n",
      " 255. 255. 255. 255. 253.  98.   0.   0.   0.   0.   0.   0.   0.   0.\n",
      "   0.   0.   0.   0.   0.   0.   0.   0.  68. 102. 102. 102. 102. 110.\n",
      " 119. 119. 119. 119. 118.  33.   0.   0.   0.   0.   0.   0.   0.   0.\n",
      "   0.   0.   0.   0.   0.   0.   0.   0.   0.   0.   0.   0.   0.   0.\n",
      "   0.   0.   0.   0.   0.   0.   0.   0.   0.   0.   0.   0.   0.   0.\n",
      "   6.]\n"
     ]
    }
   ],
   "source": [
    "print(full_array[0])"
   ]
  },
  {
   "cell_type": "code",
   "execution_count": 7,
   "metadata": {},
   "outputs": [
    {
     "name": "stdout",
     "output_type": "stream",
     "text": [
      "(962009, 785)\n",
      "(75000, 785)\n",
      "(962009, 784)\n",
      "(962009,)\n",
      "[6. 5. 6. ... 4. 2. 5.]\n",
      "[6. 2. 3. ... 6. 3. 1.]\n"
     ]
    }
   ],
   "source": [
    "num_testing_examples = 75000\n",
    "\n",
    "full_training = full_array[num_testing_examples+1:]\n",
    "full_testing  = full_array[:num_testing_examples]\n",
    "print(full_training.shape)\n",
    "print(full_testing.shape)\n",
    "\n",
    "X_training = full_training[:,:-1]\n",
    "Y_training = full_training[:, 784]\n",
    "print(X_training.shape)\n",
    "print(Y_training.shape)\n",
    "\n",
    "\n",
    "X_testing = full_testing[:, :-1]\n",
    "Y_testing = full_testing[:, 784]\n",
    "\n",
    "print(Y_training)\n",
    "print(Y_testing)\n",
    "\n",
    "\n",
    "\n"
   ]
  },
  {
   "cell_type": "code",
   "execution_count": 8,
   "metadata": {},
   "outputs": [],
   "source": [
    "Y_training = onehot(Y_training, 7)\n",
    "Y_testing  = onehot(Y_testing, 7)\n",
    "print(Y_training.shape)\n",
    "print(Y_testing.shape)"
   ]
  },
  {
   "cell_type": "code",
   "execution_count": 10,
   "metadata": {},
   "outputs": [],
   "source": [
    "X_training /= 255\n",
    "X_testing  /= 255"
   ]
  },
  {
   "cell_type": "code",
   "execution_count": 18,
   "metadata": {},
   "outputs": [],
   "source": [
    "nn_input = Input(shape=(784,))\n",
    "\n",
    "activation = Dense(500)(nn_input)\n",
    "activation = BatchNormalization()(activation)\n",
    "activation = Activation('relu')(activation)\n",
    "\n",
    "middle_layers = [256, 256, 128, 64, 32, 16]\n",
    "for layer in middle_layers:\n",
    "    activation = Dense(layer)(activation)\n",
    "    activation = BatchNormalization()(activation)\n",
    "    activation = Activation('relu')(activation)\n",
    "\n",
    "activation = Dense(7)(activation)\n",
    "output = Activation('softmax')(activation)\n",
    "    "
   ]
  },
  {
   "cell_type": "code",
   "execution_count": 19,
   "metadata": {
    "scrolled": true
   },
   "outputs": [],
   "source": [
    "model = Model(inputs=nn_input, outputs=output)\n",
    "model.compile(optimizer=Adam(lr=0.001, decay=0.001), loss='categorical_crossentropy', metrics=['accuracy'])"
   ]
  },
  {
   "cell_type": "code",
   "execution_count": null,
   "metadata": {},
   "outputs": [
    {
     "name": "stdout",
     "output_type": "stream",
     "text": [
      "Epoch 1/1\n",
      "962009/962009 [==============================] - 69s 72us/step - loss: 0.2140 - acc: 0.9309\n",
      "75000/75000 [==============================] - 4s 57us/step\n",
      "Epoch 1/1\n",
      "166272/962009 [====>.........................] - ETA: 1:00 - loss: 0.1932 - acc: 0.9377"
     ]
    }
   ],
   "source": [
    "costs = dict()\n",
    "for i in range(10):\n",
    "    model.fit(x=X_training, y=Y_training, batch_size=128, epochs=1, verbose=1)\n",
    "    costs[i] = model.evaluate(x=X_testing, y=Y_testing)"
   ]
  },
  {
   "cell_type": "code",
   "execution_count": 21,
   "metadata": {},
   "outputs": [
    {
     "name": "stdout",
     "output_type": "stream",
     "text": [
      "{0: [0.33638936329126357, 0.8924666666603088], 1: [0.2960185162909826, 0.9048000000063579], 2: [0.2819953625833988, 0.9091066666730245], 3: [0.2725732209114234, 0.9129599999936422], 4: [0.263278889601628, 0.9172133333333333]}\n"
     ]
    }
   ],
   "source": [
    "print(costs)"
   ]
  },
  {
   "cell_type": "code",
   "execution_count": null,
   "metadata": {},
   "outputs": [],
   "source": []
  }
 ],
 "metadata": {
  "kernelspec": {
   "display_name": "Python 3",
   "language": "python",
   "name": "python3"
  },
  "language_info": {
   "codemirror_mode": {
    "name": "ipython",
    "version": 3
   },
   "file_extension": ".py",
   "mimetype": "text/x-python",
   "name": "python",
   "nbconvert_exporter": "python",
   "pygments_lexer": "ipython3",
   "version": "3.6.6"
  }
 },
 "nbformat": 4,
 "nbformat_minor": 2
}
